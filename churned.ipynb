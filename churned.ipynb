{
 "cells": [
  {
   "cell_type": "code",
   "execution_count": 110,
   "metadata": {},
   "outputs": [],
   "source": [
    "# Import necessary packages\n",
    "import pandas as pd\n",
    "import numpy as np\n",
    "import matplotlib.pyplot as plt"
   ]
  },
  {
   "cell_type": "markdown",
   "metadata": {},
   "source": [
    "1. drop all null rows\n",
    "2. start date > end data\n",
    "3. end date: \n",
    "    churned && (null) ? delete : keep\n",
    "             "
   ]
  },
  {
   "cell_type": "code",
   "execution_count": 50,
   "metadata": {},
   "outputs": [
    {
     "name": "stdout",
     "output_type": "stream",
     "text": [
      "92226\n"
     ]
    },
    {
     "data": {
      "text/html": [
       "<div>\n",
       "<style scoped>\n",
       "    .dataframe tbody tr th:only-of-type {\n",
       "        vertical-align: middle;\n",
       "    }\n",
       "\n",
       "    .dataframe tbody tr th {\n",
       "        vertical-align: top;\n",
       "    }\n",
       "\n",
       "    .dataframe thead th {\n",
       "        text-align: right;\n",
       "    }\n",
       "</style>\n",
       "<table border=\"1\" class=\"dataframe\">\n",
       "  <thead>\n",
       "    <tr style=\"text-align: right;\">\n",
       "      <th></th>\n",
       "      <th>company_id</th>\n",
       "      <th>Start_date</th>\n",
       "      <th>End_date</th>\n",
       "      <th>state</th>\n",
       "      <th>Category</th>\n",
       "      <th>MRR</th>\n",
       "    </tr>\n",
       "  </thead>\n",
       "  <tbody>\n",
       "    <tr>\n",
       "      <th>0</th>\n",
       "      <td>1.0</td>\n",
       "      <td>2017-01-16</td>\n",
       "      <td>2017-03-16</td>\n",
       "      <td>Churned</td>\n",
       "      <td>Heating &amp; Air Conditioning</td>\n",
       "      <td>175.000000</td>\n",
       "    </tr>\n",
       "    <tr>\n",
       "      <th>1</th>\n",
       "      <td>2.0</td>\n",
       "      <td>2017-10-17</td>\n",
       "      <td>2017-11-04</td>\n",
       "      <td>Churned</td>\n",
       "      <td>Appliance Repair</td>\n",
       "      <td>100.000000</td>\n",
       "    </tr>\n",
       "    <tr>\n",
       "      <th>2</th>\n",
       "      <td>3.0</td>\n",
       "      <td>2016-07-11</td>\n",
       "      <td>2016-07-14</td>\n",
       "      <td>Churned</td>\n",
       "      <td>Snow Removal</td>\n",
       "      <td>121.458333</td>\n",
       "    </tr>\n",
       "    <tr>\n",
       "      <th>3</th>\n",
       "      <td>4.0</td>\n",
       "      <td>2016-07-18</td>\n",
       "      <td>2016-07-31</td>\n",
       "      <td>Churned</td>\n",
       "      <td>Roofing</td>\n",
       "      <td>102.500000</td>\n",
       "    </tr>\n",
       "    <tr>\n",
       "      <th>4</th>\n",
       "      <td>4.0</td>\n",
       "      <td>2016-08-02</td>\n",
       "      <td>NaN</td>\n",
       "      <td>Active</td>\n",
       "      <td>Roofing</td>\n",
       "      <td>102.500000</td>\n",
       "    </tr>\n",
       "  </tbody>\n",
       "</table>\n",
       "</div>"
      ],
      "text/plain": [
       "   company_id  Start_date    End_date    state                    Category  \\\n",
       "0         1.0  2017-01-16  2017-03-16  Churned  Heating & Air Conditioning   \n",
       "1         2.0  2017-10-17  2017-11-04  Churned            Appliance Repair   \n",
       "2         3.0  2016-07-11  2016-07-14  Churned                Snow Removal   \n",
       "3         4.0  2016-07-18  2016-07-31  Churned                     Roofing   \n",
       "4         4.0  2016-08-02         NaN   Active                     Roofing   \n",
       "\n",
       "          MRR  \n",
       "0  175.000000  \n",
       "1  100.000000  \n",
       "2  121.458333  \n",
       "3  102.500000  \n",
       "4  102.500000  "
      ]
     },
     "execution_count": 50,
     "metadata": {},
     "output_type": "execute_result"
    }
   ],
   "source": [
    "# Load data as dataframe, total 92226 data included.\n",
    "data = pd.read_csv('data.csv').dropna(how='all')\n",
    "print(len(data.index))\n",
    "data.head(5)"
   ]
  },
  {
   "cell_type": "code",
   "execution_count": 51,
   "metadata": {},
   "outputs": [
    {
     "data": {
      "text/html": [
       "<div>\n",
       "<style scoped>\n",
       "    .dataframe tbody tr th:only-of-type {\n",
       "        vertical-align: middle;\n",
       "    }\n",
       "\n",
       "    .dataframe tbody tr th {\n",
       "        vertical-align: top;\n",
       "    }\n",
       "\n",
       "    .dataframe thead th {\n",
       "        text-align: right;\n",
       "    }\n",
       "</style>\n",
       "<table border=\"1\" class=\"dataframe\">\n",
       "  <thead>\n",
       "    <tr style=\"text-align: right;\">\n",
       "      <th></th>\n",
       "      <th>company_id</th>\n",
       "      <th>Start_date</th>\n",
       "      <th>End_date</th>\n",
       "      <th>state</th>\n",
       "      <th>Category</th>\n",
       "      <th>MRR</th>\n",
       "    </tr>\n",
       "  </thead>\n",
       "  <tbody>\n",
       "    <tr>\n",
       "      <th>0</th>\n",
       "      <td>1.0</td>\n",
       "      <td>2017-01-16</td>\n",
       "      <td>2017-03-16</td>\n",
       "      <td>Churned</td>\n",
       "      <td>Heating &amp; Air Conditioning</td>\n",
       "      <td>175.000000</td>\n",
       "    </tr>\n",
       "    <tr>\n",
       "      <th>1</th>\n",
       "      <td>2.0</td>\n",
       "      <td>2017-10-17</td>\n",
       "      <td>2017-11-04</td>\n",
       "      <td>Churned</td>\n",
       "      <td>Appliance Repair</td>\n",
       "      <td>100.000000</td>\n",
       "    </tr>\n",
       "    <tr>\n",
       "      <th>2</th>\n",
       "      <td>3.0</td>\n",
       "      <td>2016-07-11</td>\n",
       "      <td>2016-07-14</td>\n",
       "      <td>Churned</td>\n",
       "      <td>Snow Removal</td>\n",
       "      <td>121.458333</td>\n",
       "    </tr>\n",
       "    <tr>\n",
       "      <th>3</th>\n",
       "      <td>4.0</td>\n",
       "      <td>2016-07-18</td>\n",
       "      <td>2016-07-31</td>\n",
       "      <td>Churned</td>\n",
       "      <td>Roofing</td>\n",
       "      <td>102.500000</td>\n",
       "    </tr>\n",
       "    <tr>\n",
       "      <th>4</th>\n",
       "      <td>4.0</td>\n",
       "      <td>2016-08-02</td>\n",
       "      <td>NaN</td>\n",
       "      <td>Active</td>\n",
       "      <td>Roofing</td>\n",
       "      <td>102.500000</td>\n",
       "    </tr>\n",
       "    <tr>\n",
       "      <th>...</th>\n",
       "      <td>...</td>\n",
       "      <td>...</td>\n",
       "      <td>...</td>\n",
       "      <td>...</td>\n",
       "      <td>...</td>\n",
       "      <td>...</td>\n",
       "    </tr>\n",
       "    <tr>\n",
       "      <th>92220</th>\n",
       "      <td>68752.0</td>\n",
       "      <td>2016-11-03</td>\n",
       "      <td>NaN</td>\n",
       "      <td>Active</td>\n",
       "      <td>Pest &amp; Animal Control</td>\n",
       "      <td>25.000000</td>\n",
       "    </tr>\n",
       "    <tr>\n",
       "      <th>92221</th>\n",
       "      <td>68753.0</td>\n",
       "      <td>2017-04-07</td>\n",
       "      <td>2017-04-19</td>\n",
       "      <td>Churned</td>\n",
       "      <td>Junk Removal</td>\n",
       "      <td>170.000000</td>\n",
       "    </tr>\n",
       "    <tr>\n",
       "      <th>92222</th>\n",
       "      <td>68754.0</td>\n",
       "      <td>2017-04-07</td>\n",
       "      <td>2017-04-20</td>\n",
       "      <td>Churned</td>\n",
       "      <td>Junk Removal</td>\n",
       "      <td>170.000000</td>\n",
       "    </tr>\n",
       "    <tr>\n",
       "      <th>92223</th>\n",
       "      <td>68755.0</td>\n",
       "      <td>2017-10-12</td>\n",
       "      <td>2017-10-21</td>\n",
       "      <td>Churned</td>\n",
       "      <td>Alarm Systems</td>\n",
       "      <td>250.000000</td>\n",
       "    </tr>\n",
       "    <tr>\n",
       "      <th>92225</th>\n",
       "      <td>68757.0</td>\n",
       "      <td>2017-01-27</td>\n",
       "      <td>NaN</td>\n",
       "      <td>Active</td>\n",
       "      <td>Lighting</td>\n",
       "      <td>500.000000</td>\n",
       "    </tr>\n",
       "  </tbody>\n",
       "</table>\n",
       "<p>78921 rows × 6 columns</p>\n",
       "</div>"
      ],
      "text/plain": [
       "       company_id  Start_date    End_date    state  \\\n",
       "0             1.0  2017-01-16  2017-03-16  Churned   \n",
       "1             2.0  2017-10-17  2017-11-04  Churned   \n",
       "2             3.0  2016-07-11  2016-07-14  Churned   \n",
       "3             4.0  2016-07-18  2016-07-31  Churned   \n",
       "4             4.0  2016-08-02         NaN   Active   \n",
       "...           ...         ...         ...      ...   \n",
       "92220     68752.0  2016-11-03         NaN   Active   \n",
       "92221     68753.0  2017-04-07  2017-04-19  Churned   \n",
       "92222     68754.0  2017-04-07  2017-04-20  Churned   \n",
       "92223     68755.0  2017-10-12  2017-10-21  Churned   \n",
       "92225     68757.0  2017-01-27         NaN   Active   \n",
       "\n",
       "                         Category         MRR  \n",
       "0      Heating & Air Conditioning  175.000000  \n",
       "1                Appliance Repair  100.000000  \n",
       "2                    Snow Removal  121.458333  \n",
       "3                         Roofing  102.500000  \n",
       "4                         Roofing  102.500000  \n",
       "...                           ...         ...  \n",
       "92220       Pest & Animal Control   25.000000  \n",
       "92221                Junk Removal  170.000000  \n",
       "92222                Junk Removal  170.000000  \n",
       "92223               Alarm Systems  250.000000  \n",
       "92225                    Lighting  500.000000  \n",
       "\n",
       "[78921 rows x 6 columns]"
      ]
     },
     "execution_count": 51,
     "metadata": {},
     "output_type": "execute_result"
    }
   ],
   "source": [
    "# Clear invalid data with Start_date later than End_date\n",
    "indexNames = data[ (data['Start_date'] >= data['End_date']) ].index\n",
    "data.drop(indexNames , inplace=True)\n",
    "data"
   ]
  },
  {
   "cell_type": "markdown",
   "metadata": {},
   "source": [
    "## Churned MRR"
   ]
  },
  {
   "cell_type": "code",
   "execution_count": 227,
   "metadata": {},
   "outputs": [],
   "source": [
    "# Filter the data based on monthly End_date, for understanding churned MRR.\n",
    "# Str: month variable\n",
    "def filterByEndMonthly(Str):\n",
    "    rowlist = []\n",
    "\n",
    "    for index, row in data.iterrows():\n",
    "        if not pd.isnull(row['End_date']):\n",
    "            if row['End_date'][0:7] == Str:\n",
    "                rowlist.append(row)\n",
    "                #num += 1\n",
    "                #mrr += row['MRR']\n",
    "    subDF = pd.DataFrame(rowlist) \n",
    "    return subDF"
   ]
  },
  {
   "cell_type": "code",
   "execution_count": 228,
   "metadata": {},
   "outputs": [],
   "source": [
    "# Loop over 12 months and store each filtered dataframe as a dictionary.\n",
    "def returnResult(churned, yr):\n",
    "    for i in range (13):\n",
    "        if i != 0:\n",
    "            if i<10:\n",
    "                cond = yr+'-0'+str(i)\n",
    "                df= filterByEndMonthly(cond)\n",
    "                \n",
    "            else:\n",
    "                cond = yr+'-'+str(i)\n",
    "                df = filterByEndMonthly(cond)\n",
    "                \n",
    "            churned[cond] = df\n",
    "            print('done '+yr+' '+str(i))\n",
    "\n",
    "    return churned"
   ]
  },
  {
   "cell_type": "code",
   "execution_count": 229,
   "metadata": {},
   "outputs": [
    {
     "name": "stdout",
     "output_type": "stream",
     "text": [
      "done 2016 1\n",
      "done 2016 2\n",
      "done 2016 3\n",
      "done 2016 4\n",
      "done 2016 5\n",
      "done 2016 6\n",
      "done 2016 7\n",
      "done 2016 8\n",
      "done 2016 9\n",
      "done 2016 10\n",
      "done 2016 11\n",
      "done 2016 12\n"
     ]
    }
   ],
   "source": [
    "# Initialize the dictionary \"churned\" to store filtered data.\n",
    "# Filter churned data in 2016\n",
    "churned = dict()\n",
    "churned = returnResult(churned,'2016')"
   ]
  },
  {
   "cell_type": "code",
   "execution_count": 230,
   "metadata": {},
   "outputs": [
    {
     "name": "stdout",
     "output_type": "stream",
     "text": [
      "done 2017 1\n",
      "done 2017 2\n",
      "done 2017 3\n",
      "done 2017 4\n",
      "done 2017 5\n",
      "done 2017 6\n",
      "done 2017 7\n",
      "done 2017 8\n",
      "done 2017 9\n",
      "done 2017 10\n",
      "done 2017 11\n",
      "done 2017 12\n"
     ]
    }
   ],
   "source": [
    "# Filter churned data in 2017\n",
    "churned = returnResult(churned,'2017')"
   ]
  },
  {
   "cell_type": "code",
   "execution_count": 231,
   "metadata": {},
   "outputs": [],
   "source": [
    "# Filter data exclusively for December in 2018.\n",
    "churned['2018-12'] = filterByEndMonthly('2018-12')"
   ]
  },
  {
   "cell_type": "markdown",
   "metadata": {},
   "source": [
    "Calculate the number of company and MRR"
   ]
  },
  {
   "cell_type": "code",
   "execution_count": 78,
   "metadata": {},
   "outputs": [],
   "source": [
    "# Loop over filtered montly data in order to get the total number of churned company and MRR.\n",
    "# churnNum: # of companies\n",
    "# churnMRR: churned MRR for each month.\n",
    "churnNum = []\n",
    "churnMRR = []\n",
    "for k,v in churned.items():\n",
    "    churnNum.append(len(v.index))\n",
    "    churnMRR.append(v['MRR'].sum(axis=0))"
   ]
  },
  {
   "cell_type": "code",
   "execution_count": 85,
   "metadata": {},
   "outputs": [],
   "source": [
    "# Construct a list for monthly data\n",
    "date = []\n",
    "for i in range (13):\n",
    "    if i == 0:\n",
    "        continue\n",
    "    if i <10:\n",
    "        date.append('2016-0'+str(i))\n",
    "    else:\n",
    "        date.append('2016-'+str(i))\n",
    "\n",
    "for i in range (13):\n",
    "    if i == 0:\n",
    "        continue\n",
    "    if i <10:\n",
    "        date.append('2017-0'+str(i))\n",
    "    else:\n",
    "        date.append('2017-'+str(i))\n",
    "date.append('2018-12')"
   ]
  },
  {
   "cell_type": "code",
   "execution_count": 98,
   "metadata": {},
   "outputs": [
    {
     "data": {
      "text/html": [
       "<div>\n",
       "<style scoped>\n",
       "    .dataframe tbody tr th:only-of-type {\n",
       "        vertical-align: middle;\n",
       "    }\n",
       "\n",
       "    .dataframe tbody tr th {\n",
       "        vertical-align: top;\n",
       "    }\n",
       "\n",
       "    .dataframe thead th {\n",
       "        text-align: right;\n",
       "    }\n",
       "</style>\n",
       "<table border=\"1\" class=\"dataframe\">\n",
       "  <thead>\n",
       "    <tr style=\"text-align: right;\">\n",
       "      <th></th>\n",
       "      <th>date</th>\n",
       "      <th>Number of Company</th>\n",
       "      <th>Sum MRR</th>\n",
       "    </tr>\n",
       "  </thead>\n",
       "  <tbody>\n",
       "  </tbody>\n",
       "</table>\n",
       "</div>"
      ],
      "text/plain": [
       "Empty DataFrame\n",
       "Columns: [date, Number of Company, Sum MRR]\n",
       "Index: []"
      ]
     },
     "execution_count": 98,
     "metadata": {},
     "output_type": "execute_result"
    }
   ],
   "source": [
    "# Initialize a dataframe \"dfChurned\" for display the results, which will be displayed below.\n",
    "columns = ['date','Number of Company', 'Sum MRR']\n",
    "dfChurned = pd.DataFrame(columns=columns)\n",
    "dfChurned = dfChurned.fillna(0)\n",
    "dfChurned.head()"
   ]
  },
  {
   "cell_type": "markdown",
   "metadata": {},
   "source": [
    "## New Business"
   ]
  },
  {
   "cell_type": "code",
   "execution_count": 121,
   "metadata": {},
   "outputs": [],
   "source": [
    "# Filter the data based on monthly Start_date, for understanding churned MRR.\n",
    "# Str: month variable\n",
    "def filterByStartMonthly(Str):\n",
    "    rowlist = []\n",
    "\n",
    "    for index, row in data.iterrows():\n",
    "        if row['Start_date'][0:7] == Str:\n",
    "            rowlist.append(row)\n",
    "                #num += 1\n",
    "                #mrr += row['MRR']\n",
    "    subDF = pd.DataFrame(rowlist) \n",
    "    return subDF"
   ]
  },
  {
   "cell_type": "code",
   "execution_count": 122,
   "metadata": {},
   "outputs": [],
   "source": [
    "# Loop over 12 months and store each filtered dataframe as a dictionary.\n",
    "def newBusinessResult(newB, yr):\n",
    "    for i in range (13):\n",
    "        if i != 0:\n",
    "            if i<10:\n",
    "                cond = yr+'-0'+str(i)\n",
    "                df= filterByStartMonthly(cond)\n",
    "                \n",
    "            else:\n",
    "                cond = yr+'-'+str(i)\n",
    "                df = filterByStartMonthly(cond)\n",
    "                \n",
    "            newB[cond] = df\n",
    "            print('done '+yr+' '+str(i))\n",
    "\n",
    "    return churned"
   ]
  },
  {
   "cell_type": "code",
   "execution_count": 123,
   "metadata": {},
   "outputs": [
    {
     "name": "stdout",
     "output_type": "stream",
     "text": [
      "done 2016 1\n",
      "done 2016 2\n",
      "done 2016 3\n",
      "done 2016 4\n",
      "done 2016 5\n",
      "done 2016 6\n",
      "done 2016 7\n",
      "done 2016 8\n",
      "done 2016 9\n",
      "done 2016 10\n",
      "done 2016 11\n",
      "done 2016 12\n"
     ]
    }
   ],
   "source": [
    "# Initialize the dictionary \"newB\" to store filtered data.\n",
    "# Filter new MRR data in 2016\n",
    "newB = dict()\n",
    "newB = returnResult(newB,'2016')"
   ]
  },
  {
   "cell_type": "code",
   "execution_count": 261,
   "metadata": {},
   "outputs": [
    {
     "name": "stdout",
     "output_type": "stream",
     "text": [
      "done 2017 1\n",
      "done 2017 2\n",
      "done 2017 3\n",
      "done 2017 4\n",
      "done 2017 5\n",
      "done 2017 6\n",
      "done 2017 7\n",
      "done 2017 8\n",
      "done 2017 9\n",
      "done 2017 10\n",
      "done 2017 11\n",
      "done 2017 12\n"
     ]
    }
   ],
   "source": [
    "# Filter new MRR data in 2017\n",
    "newB = returnResult(newB,'2017')"
   ]
  },
  {
   "cell_type": "code",
   "execution_count": 125,
   "metadata": {},
   "outputs": [],
   "source": [
    "# Filter new MRR data exclusively in 2018-12\n",
    "newB['2018-12'] = filterByStartMonthly('2018-12')"
   ]
  },
  {
   "cell_type": "code",
   "execution_count": 126,
   "metadata": {},
   "outputs": [],
   "source": [
    "# Loop over filtered montly data in order to get the total number of new company and MRR.\n",
    "# newNum: # of companies\n",
    "# newMRR: new MRR for each month.\n",
    "newNum = []\n",
    "newMRR = []\n",
    "for k,v in newB.items():\n",
    "    newNum.append(len(v.index))\n",
    "    newMRR.append(v['MRR'].sum(axis=0))"
   ]
  },
  {
   "cell_type": "code",
   "execution_count": 127,
   "metadata": {},
   "outputs": [
    {
     "data": {
      "text/html": [
       "<div>\n",
       "<style scoped>\n",
       "    .dataframe tbody tr th:only-of-type {\n",
       "        vertical-align: middle;\n",
       "    }\n",
       "\n",
       "    .dataframe tbody tr th {\n",
       "        vertical-align: top;\n",
       "    }\n",
       "\n",
       "    .dataframe thead th {\n",
       "        text-align: right;\n",
       "    }\n",
       "</style>\n",
       "<table border=\"1\" class=\"dataframe\">\n",
       "  <thead>\n",
       "    <tr style=\"text-align: right;\">\n",
       "      <th></th>\n",
       "      <th>date</th>\n",
       "      <th>Number of Company</th>\n",
       "      <th>Sum MRR</th>\n",
       "    </tr>\n",
       "  </thead>\n",
       "  <tbody>\n",
       "  </tbody>\n",
       "</table>\n",
       "</div>"
      ],
      "text/plain": [
       "Empty DataFrame\n",
       "Columns: [date, Number of Company, Sum MRR]\n",
       "Index: []"
      ]
     },
     "execution_count": 127,
     "metadata": {},
     "output_type": "execute_result"
    }
   ],
   "source": [
    "# Initialize a dataframe \"dfNew\" for display the results, which will be displayed below.\n",
    "dfNew = pd.DataFrame(columns=columns)\n",
    "dfNew = dfNew.fillna(0)\n",
    "dfNew.head()"
   ]
  },
  {
   "cell_type": "code",
   "execution_count": 130,
   "metadata": {},
   "outputs": [
    {
     "data": {
      "text/html": [
       "<div>\n",
       "<style scoped>\n",
       "    .dataframe tbody tr th:only-of-type {\n",
       "        vertical-align: middle;\n",
       "    }\n",
       "\n",
       "    .dataframe tbody tr th {\n",
       "        vertical-align: top;\n",
       "    }\n",
       "\n",
       "    .dataframe thead th {\n",
       "        text-align: right;\n",
       "    }\n",
       "</style>\n",
       "<table border=\"1\" class=\"dataframe\">\n",
       "  <thead>\n",
       "    <tr style=\"text-align: right;\">\n",
       "      <th></th>\n",
       "      <th>date</th>\n",
       "      <th>Number of Company</th>\n",
       "      <th>Sum MRR</th>\n",
       "    </tr>\n",
       "  </thead>\n",
       "  <tbody>\n",
       "    <tr>\n",
       "      <th>0</th>\n",
       "      <td>2016-01</td>\n",
       "      <td>4122</td>\n",
       "      <td>7.444015e+05</td>\n",
       "    </tr>\n",
       "    <tr>\n",
       "      <th>1</th>\n",
       "      <td>2016-02</td>\n",
       "      <td>5625</td>\n",
       "      <td>1.071349e+06</td>\n",
       "    </tr>\n",
       "    <tr>\n",
       "      <th>2</th>\n",
       "      <td>2016-03</td>\n",
       "      <td>5972</td>\n",
       "      <td>1.211714e+06</td>\n",
       "    </tr>\n",
       "    <tr>\n",
       "      <th>3</th>\n",
       "      <td>2016-04</td>\n",
       "      <td>13251</td>\n",
       "      <td>2.862352e+06</td>\n",
       "    </tr>\n",
       "    <tr>\n",
       "      <th>4</th>\n",
       "      <td>2016-05</td>\n",
       "      <td>12501</td>\n",
       "      <td>2.593672e+06</td>\n",
       "    </tr>\n",
       "  </tbody>\n",
       "</table>\n",
       "</div>"
      ],
      "text/plain": [
       "      date  Number of Company       Sum MRR\n",
       "0  2016-01               4122  7.444015e+05\n",
       "1  2016-02               5625  1.071349e+06\n",
       "2  2016-03               5972  1.211714e+06\n",
       "3  2016-04              13251  2.862352e+06\n",
       "4  2016-05              12501  2.593672e+06"
      ]
     },
     "execution_count": 130,
     "metadata": {},
     "output_type": "execute_result"
    }
   ],
   "source": [
    "# Summarize the number of new company and new MRR each month in a dataframe \"dfNew\"\n",
    "dfNew['Number of Company'] = newNum\n",
    "dfNew['Sum MRR'] = newMRR\n",
    "dfNew['date'] = date \n",
    "dfNew.head()"
   ]
  },
  {
   "cell_type": "code",
   "execution_count": 145,
   "metadata": {},
   "outputs": [
    {
     "data": {
      "image/png": "[encoded data removed]",
      "text/plain": [
       "<Figure size 432x288 with 2 Axes>"
      ]
     },
     "metadata": {
      "needs_background": "light"
     },
     "output_type": "display_data"
    }
   ],
   "source": [
    "# Demonstrate above data in a frame\n",
    "# Bar chart refers to the total of new company each month\n",
    "# Line chart refers to the monthly new MRR.\n",
    "\n",
    "dfNew[['Number of Company']].plot(kind='bar', width = .35)\n",
    "dfNew['Sum MRR'].plot(secondary_y=True)\n",
    "\n",
    "ax = plt.gca()\n",
    "#plt.xlim([-width, len(m1_t['normal'])-width])\n",
    "ax.set_xticklabels(dfChurned['date'])\n",
    "\n",
    "plt.show()"
   ]
  },
  {
   "cell_type": "code",
   "execution_count": 99,
   "metadata": {},
   "outputs": [
    {
     "data": {
      "text/html": [
       "<div>\n",
       "<style scoped>\n",
       "    .dataframe tbody tr th:only-of-type {\n",
       "        vertical-align: middle;\n",
       "    }\n",
       "\n",
       "    .dataframe tbody tr th {\n",
       "        vertical-align: top;\n",
       "    }\n",
       "\n",
       "    .dataframe thead th {\n",
       "        text-align: right;\n",
       "    }\n",
       "</style>\n",
       "<table border=\"1\" class=\"dataframe\">\n",
       "  <thead>\n",
       "    <tr style=\"text-align: right;\">\n",
       "      <th></th>\n",
       "      <th>date</th>\n",
       "      <th>Number of Company</th>\n",
       "      <th>Sum MRR</th>\n",
       "    </tr>\n",
       "  </thead>\n",
       "  <tbody>\n",
       "    <tr>\n",
       "      <th>0</th>\n",
       "      <td>2016-01</td>\n",
       "      <td>64</td>\n",
       "      <td>1.505000e+04</td>\n",
       "    </tr>\n",
       "    <tr>\n",
       "      <th>1</th>\n",
       "      <td>2016-02</td>\n",
       "      <td>255</td>\n",
       "      <td>8.062500e+04</td>\n",
       "    </tr>\n",
       "    <tr>\n",
       "      <th>2</th>\n",
       "      <td>2016-03</td>\n",
       "      <td>539</td>\n",
       "      <td>9.429333e+04</td>\n",
       "    </tr>\n",
       "    <tr>\n",
       "      <th>3</th>\n",
       "      <td>2016-04</td>\n",
       "      <td>5750</td>\n",
       "      <td>1.251039e+06</td>\n",
       "    </tr>\n",
       "    <tr>\n",
       "      <th>4</th>\n",
       "      <td>2016-05</td>\n",
       "      <td>6641</td>\n",
       "      <td>1.363568e+06</td>\n",
       "    </tr>\n",
       "  </tbody>\n",
       "</table>\n",
       "</div>"
      ],
      "text/plain": [
       "      date  Number of Company       Sum MRR\n",
       "0  2016-01                 64  1.505000e+04\n",
       "1  2016-02                255  8.062500e+04\n",
       "2  2016-03                539  9.429333e+04\n",
       "3  2016-04               5750  1.251039e+06\n",
       "4  2016-05               6641  1.363568e+06"
      ]
     },
     "execution_count": 99,
     "metadata": {},
     "output_type": "execute_result"
    }
   ],
   "source": [
    "# Summarize the number of churned company and churned MRR each month in a dataframe \"dfChurned\"\n",
    "\n",
    "dfChurned['Number of Company'] = churnNum\n",
    "dfChurned['Sum MRR'] = churnMRR\n",
    "dfChurned['date'] = date \n",
    "dfChurned.head()"
   ]
  },
  {
   "cell_type": "code",
   "execution_count": 120,
   "metadata": {},
   "outputs": [
    {
     "data": {
      "image/png": "[encoded data removed]",
      "text/plain": [
       "<Figure size 432x288 with 2 Axes>"
      ]
     },
     "metadata": {
      "needs_background": "light"
     },
     "output_type": "display_data"
    }
   ],
   "source": [
    "# Demonstrate above data in a frame\n",
    "# Bar chart refers to the total of churned company each month\n",
    "# Line chart refers to the monthly churned MRR.\n",
    "\n",
    "dfChurned[['Number of Company']].plot(kind='bar', width = .35)\n",
    "dfChurned['Sum MRR'].plot(secondary_y=True)\n",
    "\n",
    "ax = plt.gca()\n",
    "#plt.xlim([-width, len(m1_t['normal'])-width])\n",
    "ax.set_xticklabels(dfChurned['date'])\n",
    "\n",
    "plt.show()"
   ]
  },
  {
   "cell_type": "code",
   "execution_count": 140,
   "metadata": {},
   "outputs": [],
   "source": [
    "# Calculate net Company number and MRR by substracting data of dfNew by dfChurned\n",
    "netNum = [np.subtract(x1, x2) for (x1, x2) in zip(newNum, churnNum)]\n",
    "netMRR = [np.subtract(x1, x2) for (x1, x2) in zip(newMRR, churnMRR)]"
   ]
  },
  {
   "cell_type": "code",
   "execution_count": 141,
   "metadata": {},
   "outputs": [
    {
     "data": {
      "text/html": [
       "<div>\n",
       "<style scoped>\n",
       "    .dataframe tbody tr th:only-of-type {\n",
       "        vertical-align: middle;\n",
       "    }\n",
       "\n",
       "    .dataframe tbody tr th {\n",
       "        vertical-align: top;\n",
       "    }\n",
       "\n",
       "    .dataframe thead th {\n",
       "        text-align: right;\n",
       "    }\n",
       "</style>\n",
       "<table border=\"1\" class=\"dataframe\">\n",
       "  <thead>\n",
       "    <tr style=\"text-align: right;\">\n",
       "      <th></th>\n",
       "      <th>date</th>\n",
       "      <th>Number of Company</th>\n",
       "      <th>Sum MRR</th>\n",
       "    </tr>\n",
       "  </thead>\n",
       "  <tbody>\n",
       "  </tbody>\n",
       "</table>\n",
       "</div>"
      ],
      "text/plain": [
       "Empty DataFrame\n",
       "Columns: [date, Number of Company, Sum MRR]\n",
       "Index: []"
      ]
     },
     "execution_count": 141,
     "metadata": {},
     "output_type": "execute_result"
    }
   ],
   "source": [
    "# Construct data of net in the dataframe \"dfNet\"\n",
    "dfNet = pd.DataFrame(columns=columns)\n",
    "dfNet = dfNet.fillna(0)\n",
    "dfNet.head()"
   ]
  },
  {
   "cell_type": "code",
   "execution_count": 142,
   "metadata": {},
   "outputs": [
    {
     "data": {
      "text/html": [
       "<div>\n",
       "<style scoped>\n",
       "    .dataframe tbody tr th:only-of-type {\n",
       "        vertical-align: middle;\n",
       "    }\n",
       "\n",
       "    .dataframe tbody tr th {\n",
       "        vertical-align: top;\n",
       "    }\n",
       "\n",
       "    .dataframe thead th {\n",
       "        text-align: right;\n",
       "    }\n",
       "</style>\n",
       "<table border=\"1\" class=\"dataframe\">\n",
       "  <thead>\n",
       "    <tr style=\"text-align: right;\">\n",
       "      <th></th>\n",
       "      <th>date</th>\n",
       "      <th>Number of Company</th>\n",
       "      <th>Sum MRR</th>\n",
       "    </tr>\n",
       "  </thead>\n",
       "  <tbody>\n",
       "    <tr>\n",
       "      <th>0</th>\n",
       "      <td>2016-01</td>\n",
       "      <td>4058</td>\n",
       "      <td>7.293515e+05</td>\n",
       "    </tr>\n",
       "    <tr>\n",
       "      <th>1</th>\n",
       "      <td>2016-02</td>\n",
       "      <td>5370</td>\n",
       "      <td>9.907240e+05</td>\n",
       "    </tr>\n",
       "    <tr>\n",
       "      <th>2</th>\n",
       "      <td>2016-03</td>\n",
       "      <td>5433</td>\n",
       "      <td>1.117420e+06</td>\n",
       "    </tr>\n",
       "    <tr>\n",
       "      <th>3</th>\n",
       "      <td>2016-04</td>\n",
       "      <td>7501</td>\n",
       "      <td>1.611313e+06</td>\n",
       "    </tr>\n",
       "    <tr>\n",
       "      <th>4</th>\n",
       "      <td>2016-05</td>\n",
       "      <td>5860</td>\n",
       "      <td>1.230104e+06</td>\n",
       "    </tr>\n",
       "  </tbody>\n",
       "</table>\n",
       "</div>"
      ],
      "text/plain": [
       "      date  Number of Company       Sum MRR\n",
       "0  2016-01               4058  7.293515e+05\n",
       "1  2016-02               5370  9.907240e+05\n",
       "2  2016-03               5433  1.117420e+06\n",
       "3  2016-04               7501  1.611313e+06\n",
       "4  2016-05               5860  1.230104e+06"
      ]
     },
     "execution_count": 142,
     "metadata": {},
     "output_type": "execute_result"
    }
   ],
   "source": [
    "# Summarize the number of net company and net MRR each month in a dataframe \"dfChurned\"\n",
    "\n",
    "dfNet['Number of Company'] = netNum\n",
    "dfNet['Sum MRR'] = netMRR\n",
    "dfNet['date'] = date \n",
    "dfNet.head()"
   ]
  },
  {
   "cell_type": "code",
   "execution_count": 143,
   "metadata": {},
   "outputs": [
    {
     "data": {
      "image/png": "[encoded data removed]",
      "text/plain": [
       "<Figure size 432x288 with 2 Axes>"
      ]
     },
     "metadata": {
      "needs_background": "light"
     },
     "output_type": "display_data"
    }
   ],
   "source": [
    "# Demonstrate above data in a frame\n",
    "# Bar chart refers to the total of net company each month\n",
    "# Line chart refers to the monthly net MRR.\n",
    "\n",
    "dfNet[['Number of Company']].plot(kind='bar', width = .35)\n",
    "dfNet['Sum MRR'].plot(secondary_y=True)\n",
    "\n",
    "ax = plt.gca()\n",
    "#plt.xlim([-width, len(m1_t['normal'])-width])\n",
    "ax.set_xticklabels(dfChurned['date'])\n",
    "\n",
    "plt.show()"
   ]
  },
  {
   "cell_type": "markdown",
   "metadata": {},
   "source": [
    "## Filter with Category"
   ]
  },
  {
   "cell_type": "code",
   "execution_count": null,
   "metadata": {},
   "outputs": [],
   "source": [
    "newB, dfChurned"
   ]
  },
  {
   "cell_type": "code",
   "execution_count": 211,
   "metadata": {},
   "outputs": [],
   "source": [
    "# filter provided category of data in each month \n",
    "def filterDict(dictionary, category):\n",
    "    filterDict = {}\n",
    "    for k, v in dictionary.items():\n",
    "        filterDict[k] = v[v['Category']==category]\n",
    "    return filterDict"
   ]
  },
  {
   "cell_type": "code",
   "execution_count": 212,
   "metadata": {},
   "outputs": [],
   "source": [
    "# Store targeted category in a list.\n",
    "column = ['Interior Decorators', 'Interior Design', 'Basement Renovation', 'Kitchen Planning & Renovation', 'Kitchen & Bathroom - Cabinets & Design']"
   ]
  },
  {
   "cell_type": "code",
   "execution_count": 213,
   "metadata": {},
   "outputs": [],
   "source": [
    "# Store each category of each month in a dictionary \"FilteredDict\"\n",
    "def returnDict(dictionary):\n",
    "    FilteredDict = {}\n",
    "    for category in column:\n",
    "        FilteredDict[category] = filterDict(dictionary, category)\n",
    "    return FilteredDict"
   ]
  },
  {
   "cell_type": "code",
   "execution_count": 259,
   "metadata": {},
   "outputs": [],
   "source": [
    "# Filter for new companies\n",
    "newFilterDict = returnDict(newB)"
   ]
  },
  {
   "cell_type": "code",
   "execution_count": 260,
   "metadata": {},
   "outputs": [],
   "source": [
    "# Filtered for churned companies\n",
    "churnedFilterDict = returnDict(churned)"
   ]
  },
  {
   "cell_type": "code",
   "execution_count": 216,
   "metadata": {},
   "outputs": [],
   "source": [
    "# Calculate related company number and mrr of each category by each month and store them in a dictionary.\n",
    "def processData(filterD):\n",
    "    dictNew = {}\n",
    "    for category, filterDict in filterD.items():\n",
    "        dictNew[category] = {}\n",
    "        filterCompanyNum = []\n",
    "        filterMRR = []\n",
    "        for month, monthDict in filterDict.items():\n",
    "            if len(monthDict.index) == 0:\n",
    "                filterCompanyNum.append(0)\n",
    "                filterMRR.append(0)\n",
    "                \n",
    "            else:\n",
    "                filterCompanyNum.append(len(monthDict.index))\n",
    "                filterMRR.append((monthDict['MRR'].sum(axis=0)))\n",
    "        dictNew[category]['num'] = filterCompanyNum\n",
    "        dictNew[category]['mrr'] = filterMRR\n",
    "    return dictNew"
   ]
  },
  {
   "cell_type": "code",
   "execution_count": 233,
   "metadata": {},
   "outputs": [],
   "source": [
    "# Get data for new company and mrr\n",
    "newFilterDictResult = processData(newFilterDict)"
   ]
  },
  {
   "cell_type": "code",
   "execution_count": 234,
   "metadata": {},
   "outputs": [],
   "source": [
    "# Get data for churned company and mrr\n",
    "churnedFilterDictResult = processData(churnedFilterDict)"
   ]
  },
  {
   "cell_type": "code",
   "execution_count": 235,
   "metadata": {},
   "outputs": [],
   "source": [
    "newFilterCompanyDF = pd.DataFrame(columns=column)\n",
    "newFilterCompanyDF = newFilterCompanyDF.fillna(0)"
   ]
  },
  {
   "cell_type": "code",
   "execution_count": 236,
   "metadata": {},
   "outputs": [
    {
     "data": {
      "text/html": [
       "<div>\n",
       "<style scoped>\n",
       "    .dataframe tbody tr th:only-of-type {\n",
       "        vertical-align: middle;\n",
       "    }\n",
       "\n",
       "    .dataframe tbody tr th {\n",
       "        vertical-align: top;\n",
       "    }\n",
       "\n",
       "    .dataframe thead th {\n",
       "        text-align: right;\n",
       "    }\n",
       "</style>\n",
       "<table border=\"1\" class=\"dataframe\">\n",
       "  <thead>\n",
       "    <tr style=\"text-align: right;\">\n",
       "      <th></th>\n",
       "      <th>Interior Decorators</th>\n",
       "      <th>Interior Design</th>\n",
       "      <th>Basement Renovation</th>\n",
       "      <th>Kitchen Planning &amp; Renovation</th>\n",
       "      <th>Kitchen &amp; Bathroom - Cabinets &amp; Design</th>\n",
       "      <th>date</th>\n",
       "    </tr>\n",
       "  </thead>\n",
       "  <tbody>\n",
       "    <tr>\n",
       "      <th>0</th>\n",
       "      <td>0</td>\n",
       "      <td>17</td>\n",
       "      <td>0</td>\n",
       "      <td>46</td>\n",
       "      <td>237</td>\n",
       "      <td>2016-01</td>\n",
       "    </tr>\n",
       "    <tr>\n",
       "      <th>1</th>\n",
       "      <td>0</td>\n",
       "      <td>0</td>\n",
       "      <td>0</td>\n",
       "      <td>276</td>\n",
       "      <td>46</td>\n",
       "      <td>2016-02</td>\n",
       "    </tr>\n",
       "    <tr>\n",
       "      <th>2</th>\n",
       "      <td>46</td>\n",
       "      <td>12</td>\n",
       "      <td>92</td>\n",
       "      <td>46</td>\n",
       "      <td>46</td>\n",
       "      <td>2016-03</td>\n",
       "    </tr>\n",
       "    <tr>\n",
       "      <th>3</th>\n",
       "      <td>0</td>\n",
       "      <td>92</td>\n",
       "      <td>109</td>\n",
       "      <td>230</td>\n",
       "      <td>184</td>\n",
       "      <td>2016-04</td>\n",
       "    </tr>\n",
       "    <tr>\n",
       "      <th>4</th>\n",
       "      <td>0</td>\n",
       "      <td>46</td>\n",
       "      <td>184</td>\n",
       "      <td>184</td>\n",
       "      <td>230</td>\n",
       "      <td>2016-05</td>\n",
       "    </tr>\n",
       "  </tbody>\n",
       "</table>\n",
       "</div>"
      ],
      "text/plain": [
       "   Interior Decorators  Interior Design  Basement Renovation  \\\n",
       "0                    0               17                    0   \n",
       "1                    0                0                    0   \n",
       "2                   46               12                   92   \n",
       "3                    0               92                  109   \n",
       "4                    0               46                  184   \n",
       "\n",
       "   Kitchen Planning & Renovation  Kitchen & Bathroom - Cabinets & Design  \\\n",
       "0                             46                                     237   \n",
       "1                            276                                      46   \n",
       "2                             46                                      46   \n",
       "3                            230                                     184   \n",
       "4                            184                                     230   \n",
       "\n",
       "      date  \n",
       "0  2016-01  \n",
       "1  2016-02  \n",
       "2  2016-03  \n",
       "3  2016-04  \n",
       "4  2016-05  "
      ]
     },
     "execution_count": 236,
     "metadata": {},
     "output_type": "execute_result"
    }
   ],
   "source": [
    "# Display the number of new company of each category of each month\n",
    "for category, dictionary in newFilterDictResult.items():\n",
    "    for k, v in dictionary.items():       \n",
    "        newFilterCompanyDF[category] = dictionary['num']\n",
    "newFilterCompanyDF['date'] = date\n",
    "newFilterCompanyDF.head()"
   ]
  },
  {
   "cell_type": "code",
   "execution_count": 244,
   "metadata": {},
   "outputs": [
    {
     "data": {
      "image/png": "[encoded data removed]",
      "text/plain": [
       "<Figure size 432x288 with 1 Axes>"
      ]
     },
     "metadata": {
      "needs_background": "light"
     },
     "output_type": "display_data"
    }
   ],
   "source": [
    "# Plot the graph above\n",
    "ax = plt.gca()\n",
    "\n",
    "newFilterCompanyDF.plot(kind='line',x='date',ax=ax)\n",
    "#newFilterCompanyDF.plot(kind='line',x='date',y='num_pets', color='red', ax=ax)\n",
    "\n",
    "plt.show()"
   ]
  },
  {
   "cell_type": "code",
   "execution_count": 241,
   "metadata": {},
   "outputs": [
    {
     "data": {
      "text/html": [
       "<div>\n",
       "<style scoped>\n",
       "    .dataframe tbody tr th:only-of-type {\n",
       "        vertical-align: middle;\n",
       "    }\n",
       "\n",
       "    .dataframe tbody tr th {\n",
       "        vertical-align: top;\n",
       "    }\n",
       "\n",
       "    .dataframe thead th {\n",
       "        text-align: right;\n",
       "    }\n",
       "</style>\n",
       "<table border=\"1\" class=\"dataframe\">\n",
       "  <thead>\n",
       "    <tr style=\"text-align: right;\">\n",
       "      <th></th>\n",
       "      <th>Interior Decorators</th>\n",
       "      <th>Interior Design</th>\n",
       "      <th>Basement Renovation</th>\n",
       "      <th>Kitchen Planning &amp; Renovation</th>\n",
       "      <th>Kitchen &amp; Bathroom - Cabinets &amp; Design</th>\n",
       "      <th>date</th>\n",
       "    </tr>\n",
       "  </thead>\n",
       "  <tbody>\n",
       "    <tr>\n",
       "      <th>0</th>\n",
       "      <td>0.0</td>\n",
       "      <td>3825.000000</td>\n",
       "      <td>0.0</td>\n",
       "      <td>10350.0</td>\n",
       "      <td>44333.333332</td>\n",
       "      <td>2016-01</td>\n",
       "    </tr>\n",
       "    <tr>\n",
       "      <th>1</th>\n",
       "      <td>0.0</td>\n",
       "      <td>0.000000</td>\n",
       "      <td>0.0</td>\n",
       "      <td>46690.0</td>\n",
       "      <td>9200.000000</td>\n",
       "      <td>2016-02</td>\n",
       "    </tr>\n",
       "    <tr>\n",
       "      <th>2</th>\n",
       "      <td>6900.0</td>\n",
       "      <td>1560.000000</td>\n",
       "      <td>20700.0</td>\n",
       "      <td>12650.0</td>\n",
       "      <td>6900.000000</td>\n",
       "      <td>2016-03</td>\n",
       "    </tr>\n",
       "    <tr>\n",
       "      <th>3</th>\n",
       "      <td>0.0</td>\n",
       "      <td>19933.333332</td>\n",
       "      <td>36450.0</td>\n",
       "      <td>47725.0</td>\n",
       "      <td>37950.000000</td>\n",
       "      <td>2016-04</td>\n",
       "    </tr>\n",
       "    <tr>\n",
       "      <th>4</th>\n",
       "      <td>0.0</td>\n",
       "      <td>5750.000000</td>\n",
       "      <td>43930.0</td>\n",
       "      <td>39675.0</td>\n",
       "      <td>36800.000000</td>\n",
       "      <td>2016-05</td>\n",
       "    </tr>\n",
       "  </tbody>\n",
       "</table>\n",
       "</div>"
      ],
      "text/plain": [
       "   Interior Decorators  Interior Design  Basement Renovation  \\\n",
       "0                  0.0      3825.000000                  0.0   \n",
       "1                  0.0         0.000000                  0.0   \n",
       "2               6900.0      1560.000000              20700.0   \n",
       "3                  0.0     19933.333332              36450.0   \n",
       "4                  0.0      5750.000000              43930.0   \n",
       "\n",
       "   Kitchen Planning & Renovation  Kitchen & Bathroom - Cabinets & Design  \\\n",
       "0                        10350.0                            44333.333332   \n",
       "1                        46690.0                             9200.000000   \n",
       "2                        12650.0                             6900.000000   \n",
       "3                        47725.0                            37950.000000   \n",
       "4                        39675.0                            36800.000000   \n",
       "\n",
       "      date  \n",
       "0  2016-01  \n",
       "1  2016-02  \n",
       "2  2016-03  \n",
       "3  2016-04  \n",
       "4  2016-05  "
      ]
     },
     "execution_count": 241,
     "metadata": {},
     "output_type": "execute_result"
    }
   ],
   "source": [
    "# Display the new MRR of each category of each month\n",
    "\n",
    "newFilterMrrDF = pd.DataFrame(columns=column)\n",
    "newFilterMrrDF = newFilterMrrDF.fillna(0)\n",
    "\n",
    "for category, dictionary in newFilterDictResult.items():\n",
    "    for k, v in dictionary.items():       \n",
    "        newFilterMrrDF[category] = dictionary['mrr']\n",
    "newFilterMrrDF['date'] = date\n",
    "newFilterMrrDF.head()"
   ]
  },
  {
   "cell_type": "code",
   "execution_count": 245,
   "metadata": {},
   "outputs": [
    {
     "data": {
      "image/png": "[encoded data removed]",
      "text/plain": [
       "<Figure size 432x288 with 1 Axes>"
      ]
     },
     "metadata": {
      "needs_background": "light"
     },
     "output_type": "display_data"
    }
   ],
   "source": [
    "# Plot the graph above\n",
    "\n",
    "ax = plt.gca()\n",
    "\n",
    "newFilterMrrDF.plot(kind='line',x='date',ax=ax)\n",
    "#newFilterCompanyDF.plot(kind='line',x='date',y='num_pets', color='red', ax=ax)\n",
    "\n",
    "plt.show()"
   ]
  },
  {
   "cell_type": "code",
   "execution_count": 242,
   "metadata": {},
   "outputs": [
    {
     "data": {
      "text/html": [
       "<div>\n",
       "<style scoped>\n",
       "    .dataframe tbody tr th:only-of-type {\n",
       "        vertical-align: middle;\n",
       "    }\n",
       "\n",
       "    .dataframe tbody tr th {\n",
       "        vertical-align: top;\n",
       "    }\n",
       "\n",
       "    .dataframe thead th {\n",
       "        text-align: right;\n",
       "    }\n",
       "</style>\n",
       "<table border=\"1\" class=\"dataframe\">\n",
       "  <thead>\n",
       "    <tr style=\"text-align: right;\">\n",
       "      <th></th>\n",
       "      <th>Interior Decorators</th>\n",
       "      <th>Interior Design</th>\n",
       "      <th>Basement Renovation</th>\n",
       "      <th>Kitchen Planning &amp; Renovation</th>\n",
       "      <th>Kitchen &amp; Bathroom - Cabinets &amp; Design</th>\n",
       "      <th>date</th>\n",
       "    </tr>\n",
       "  </thead>\n",
       "  <tbody>\n",
       "    <tr>\n",
       "      <th>0</th>\n",
       "      <td>0</td>\n",
       "      <td>0</td>\n",
       "      <td>0</td>\n",
       "      <td>0</td>\n",
       "      <td>9</td>\n",
       "      <td>2016-01</td>\n",
       "    </tr>\n",
       "    <tr>\n",
       "      <th>1</th>\n",
       "      <td>0</td>\n",
       "      <td>0</td>\n",
       "      <td>0</td>\n",
       "      <td>0</td>\n",
       "      <td>0</td>\n",
       "      <td>2016-02</td>\n",
       "    </tr>\n",
       "    <tr>\n",
       "      <th>2</th>\n",
       "      <td>0</td>\n",
       "      <td>0</td>\n",
       "      <td>0</td>\n",
       "      <td>0</td>\n",
       "      <td>0</td>\n",
       "      <td>2016-03</td>\n",
       "    </tr>\n",
       "    <tr>\n",
       "      <th>3</th>\n",
       "      <td>0</td>\n",
       "      <td>46</td>\n",
       "      <td>63</td>\n",
       "      <td>92</td>\n",
       "      <td>0</td>\n",
       "      <td>2016-04</td>\n",
       "    </tr>\n",
       "    <tr>\n",
       "      <th>4</th>\n",
       "      <td>0</td>\n",
       "      <td>46</td>\n",
       "      <td>0</td>\n",
       "      <td>138</td>\n",
       "      <td>138</td>\n",
       "      <td>2016-05</td>\n",
       "    </tr>\n",
       "  </tbody>\n",
       "</table>\n",
       "</div>"
      ],
      "text/plain": [
       "   Interior Decorators  Interior Design  Basement Renovation  \\\n",
       "0                    0                0                    0   \n",
       "1                    0                0                    0   \n",
       "2                    0                0                    0   \n",
       "3                    0               46                   63   \n",
       "4                    0               46                    0   \n",
       "\n",
       "   Kitchen Planning & Renovation  Kitchen & Bathroom - Cabinets & Design  \\\n",
       "0                              0                                       9   \n",
       "1                              0                                       0   \n",
       "2                              0                                       0   \n",
       "3                             92                                       0   \n",
       "4                            138                                     138   \n",
       "\n",
       "      date  \n",
       "0  2016-01  \n",
       "1  2016-02  \n",
       "2  2016-03  \n",
       "3  2016-04  \n",
       "4  2016-05  "
      ]
     },
     "execution_count": 242,
     "metadata": {},
     "output_type": "execute_result"
    }
   ],
   "source": [
    "# Display the number of churned company of each category of each month\n",
    "\n",
    "churnedFilterCompanyDF = pd.DataFrame(columns=column)\n",
    "churnedFilterCompanyDF = churnedFilterCompanyDF.fillna(0)\n",
    "\n",
    "for category, dictionary in churnedFilterDictResult.items():\n",
    "    for k, v in dictionary.items():       \n",
    "        churnedFilterCompanyDF[category] = dictionary['num']\n",
    "churnedFilterCompanyDF['date'] = date\n",
    "churnedFilterCompanyDF.head()"
   ]
  },
  {
   "cell_type": "code",
   "execution_count": 246,
   "metadata": {},
   "outputs": [
    {
     "data": {
      "image/png": "[encoded data removed]",
      "text/plain": [
       "<Figure size 432x288 with 1 Axes>"
      ]
     },
     "metadata": {
      "needs_background": "light"
     },
     "output_type": "display_data"
    }
   ],
   "source": [
    "# Plot the graph above\n",
    "\n",
    "ax = plt.gca()\n",
    "\n",
    "churnedFilterCompanyDF.plot(kind='line',x='date',ax=ax)\n",
    "#newFilterCompanyDF.plot(kind='line',x='date',y='num_pets', color='red', ax=ax)\n",
    "\n",
    "plt.show()"
   ]
  },
  {
   "cell_type": "code",
   "execution_count": 243,
   "metadata": {},
   "outputs": [
    {
     "data": {
      "text/html": [
       "<div>\n",
       "<style scoped>\n",
       "    .dataframe tbody tr th:only-of-type {\n",
       "        vertical-align: middle;\n",
       "    }\n",
       "\n",
       "    .dataframe tbody tr th {\n",
       "        vertical-align: top;\n",
       "    }\n",
       "\n",
       "    .dataframe thead th {\n",
       "        text-align: right;\n",
       "    }\n",
       "</style>\n",
       "<table border=\"1\" class=\"dataframe\">\n",
       "  <thead>\n",
       "    <tr style=\"text-align: right;\">\n",
       "      <th></th>\n",
       "      <th>Interior Decorators</th>\n",
       "      <th>Interior Design</th>\n",
       "      <th>Basement Renovation</th>\n",
       "      <th>Kitchen Planning &amp; Renovation</th>\n",
       "      <th>Kitchen &amp; Bathroom - Cabinets &amp; Design</th>\n",
       "      <th>date</th>\n",
       "    </tr>\n",
       "  </thead>\n",
       "  <tbody>\n",
       "    <tr>\n",
       "      <th>0</th>\n",
       "      <td>0</td>\n",
       "      <td>0.000000</td>\n",
       "      <td>0.0</td>\n",
       "      <td>0.0</td>\n",
       "      <td>1800.0</td>\n",
       "      <td>2016-01</td>\n",
       "    </tr>\n",
       "    <tr>\n",
       "      <th>1</th>\n",
       "      <td>0</td>\n",
       "      <td>0.000000</td>\n",
       "      <td>0.0</td>\n",
       "      <td>0.0</td>\n",
       "      <td>0.0</td>\n",
       "      <td>2016-02</td>\n",
       "    </tr>\n",
       "    <tr>\n",
       "      <th>2</th>\n",
       "      <td>0</td>\n",
       "      <td>0.000000</td>\n",
       "      <td>0.0</td>\n",
       "      <td>0.0</td>\n",
       "      <td>0.0</td>\n",
       "      <td>2016-03</td>\n",
       "    </tr>\n",
       "    <tr>\n",
       "      <th>3</th>\n",
       "      <td>0</td>\n",
       "      <td>13033.333332</td>\n",
       "      <td>11150.0</td>\n",
       "      <td>18975.0</td>\n",
       "      <td>0.0</td>\n",
       "      <td>2016-04</td>\n",
       "    </tr>\n",
       "    <tr>\n",
       "      <th>4</th>\n",
       "      <td>0</td>\n",
       "      <td>6900.000000</td>\n",
       "      <td>0.0</td>\n",
       "      <td>28750.0</td>\n",
       "      <td>21850.0</td>\n",
       "      <td>2016-05</td>\n",
       "    </tr>\n",
       "  </tbody>\n",
       "</table>\n",
       "</div>"
      ],
      "text/plain": [
       "   Interior Decorators  Interior Design  Basement Renovation  \\\n",
       "0                    0         0.000000                  0.0   \n",
       "1                    0         0.000000                  0.0   \n",
       "2                    0         0.000000                  0.0   \n",
       "3                    0     13033.333332              11150.0   \n",
       "4                    0      6900.000000                  0.0   \n",
       "\n",
       "   Kitchen Planning & Renovation  Kitchen & Bathroom - Cabinets & Design  \\\n",
       "0                            0.0                                  1800.0   \n",
       "1                            0.0                                     0.0   \n",
       "2                            0.0                                     0.0   \n",
       "3                        18975.0                                     0.0   \n",
       "4                        28750.0                                 21850.0   \n",
       "\n",
       "      date  \n",
       "0  2016-01  \n",
       "1  2016-02  \n",
       "2  2016-03  \n",
       "3  2016-04  \n",
       "4  2016-05  "
      ]
     },
     "execution_count": 243,
     "metadata": {},
     "output_type": "execute_result"
    }
   ],
   "source": [
    "# Display churned mrr of each category of each month\n",
    "\n",
    "churnedFilterMrrDF = pd.DataFrame(columns=column)\n",
    "churnedFilterMrrDF = churnedFilterCompanyDF.fillna(0)\n",
    "\n",
    "for category, dictionary in churnedFilterDictResult.items():\n",
    "    for k, v in dictionary.items():       \n",
    "        churnedFilterMrrDF[category] = dictionary['mrr']\n",
    "churnedFilterMrrDF['date'] = date\n",
    "churnedFilterMrrDF.head()"
   ]
  },
  {
   "cell_type": "code",
   "execution_count": 247,
   "metadata": {},
   "outputs": [
    {
     "data": {
      "image/png": "[encoded data removed]",
      "text/plain": [
       "<Figure size 432x288 with 1 Axes>"
      ]
     },
     "metadata": {
      "needs_background": "light"
     },
     "output_type": "display_data"
    }
   ],
   "source": [
    "# Plot the graph above\n",
    "\n",
    "ax = plt.gca()\n",
    "\n",
    "churnedFilterMrrDF.plot(kind='line',x='date',ax=ax)\n",
    "#newFilterCompanyDF.plot(kind='line',x='date',y='num_pets', color='red', ax=ax)\n",
    "\n",
    "plt.show()"
   ]
  },
  {
   "cell_type": "code",
   "execution_count": null,
   "metadata": {},
   "outputs": [],
   "source": []
  }
 ],
 "metadata": {
  "kernelspec": {
   "display_name": "Python 3",
   "language": "python",
   "name": "python3"
  },
  "language_info": {
   "codemirror_mode": {
    "name": "ipython",
    "version": 3
   },
   "file_extension": ".py",
   "mimetype": "text/x-python",
   "name": "python",
   "nbconvert_exporter": "python",
   "pygments_lexer": "ipython3",
   "version": "3.6.3"
  }
 },
 "nbformat": 4,
 "nbformat_minor": 2
}
